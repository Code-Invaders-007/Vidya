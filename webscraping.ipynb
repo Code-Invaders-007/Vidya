{
 "cells": [
  {
   "cell_type": "code",
   "execution_count": 1,
   "metadata": {},
   "outputs": [],
   "source": [
    "from bs4 import BeautifulSoup"
   ]
  },
  {
   "cell_type": "code",
   "execution_count": 2,
   "metadata": {},
   "outputs": [
    {
     "name": "stdout",
     "output_type": "stream",
     "text": [
      "['https://www.investopedia.com/terms/b/blockchain.asp', 'https://www.investopedia.com/terms/b/bitcoin.asp', 'https://www.investopedia.com/non-fungible-tokens-nft-5115211', 'https://www.investopedia.com/terms/b/block-bitcoin-block.asp', 'https://www.investopedia.com/terms/h/hard-fork.asp', 'https://www.blockchain.com/', 'https://login.blockchain.com/', 'https://www.blockchain.com/explorer', 'https://www.blockchain.com/app', 'https://www.blockchain.com/charts']\n"
     ]
    }
   ],
   "source": [
    "\n",
    "try:\n",
    "\tfrom googlesearch import search\n",
    "except ImportError:\n",
    "\tprint(\"No module named 'google' found\")\n",
    "\n",
    "# to search\n",
    "query = \"blockchain\"\n",
    "\n",
    "Searchlinks = []\n",
    "for j in search(query, tld=\"co.in\", num=10, stop=10, pause=2):\n",
    "    Searchlinks.append(j)\n",
    "\n",
    "print(Searchlinks)"
   ]
  },
  {
   "cell_type": "code",
   "execution_count": 7,
   "metadata": {},
   "outputs": [
    {
     "name": "stdout",
     "output_type": "stream",
     "text": [
      "Just a moment...\n",
      "\n",
      "\n",
      "\n",
      "\n",
      "\n",
      "\n",
      "\n",
      "\n",
      "\n",
      "\n",
      "                        Enable JavaScript and cookies to continue\n",
      "                    \n",
      "\n",
      "\n",
      "\n",
      "\n",
      "\n",
      "\n",
      "\n",
      "\n",
      "\n",
      "\n",
      "\n",
      "Just a moment...\n",
      "\n",
      "\n",
      "\n",
      "\n",
      "\n",
      "\n",
      "\n",
      "\n",
      "\n",
      "\n",
      "                        Enable JavaScript and cookies to continue\n",
      "                    \n",
      "\n",
      "\n",
      "\n",
      "\n",
      "\n",
      "\n",
      "\n",
      "\n",
      "\n",
      "\n",
      "\n",
      "Just a moment...\n",
      "\n",
      "\n",
      "\n",
      "\n",
      "\n",
      "\n",
      "\n",
      "\n",
      "\n",
      "\n",
      "                        Enable JavaScript and cookies to continue\n",
      "                    \n",
      "\n",
      "\n",
      "\n",
      "\n",
      "\n",
      "\n",
      "\n",
      "\n",
      "\n",
      "\n",
      "\n",
      "Blockchain.com | The only crypto app you’ll ever need\n",
      "AppExchangeExplorerInstitutionalProductsWalletExchangeExplorerInstitutionalEarnCardLearnPricesChartsNFTResourcesAPIsStatusOpen SourceResearchLegal & PrivacySupportBlogSecurityPodcastCompanyAboutCareersPress CenterPrimeVenturesLog InSign UpOpen MenuOpen MenuBuyEarnKeysDeFiAssetsSecurityThe only crypto app you’ll ever needBuy, store, and do more with your crypto.Get startedBuy, sell, and swap crypto in minutesVerify your identity and add a payment method to start buying crypto.Get StartedEarn up to 5% on your cryptoGet rewards by putting your Bitcoin, Ethereum, and other crypto assets to work.Learn moreYour keys, your cryptoSelf-custody your crypto across Bitcoin, Ethereum, Polygon, and other leading blockchains.Get StartedDiscover the world of DeFiConnect to dapps, manage your NFT collection, and unlock the power of web3.Access dozens of crypto assetsGet peace of mind with best-in-class securityWhen it comes to ensuring your crypto is secure, we think about every last detail so you don’t have to.Learn moreNew to crypto? So is everyone.Get startedBuy CryptoBitcoin$USDYour EmailContinueBuy CryptoTwitterInstagramMediumProductsAppExchangeExplorerInstitutionalEarnCardLearnPricesChartsNFTResourcesAPIsStatusOpen SourceResearchLegal & PrivacyWallet SupportExchange SupportBlogSecurityPodcastCompanyAboutCareersHiringPress CenterPrimeVenturesEnglishEspañolPortuguêsРусскийTürkçeBlockchain.comBlockchain.com, Inc. NMLS ID# 2024031 | NMLS Consumer Access\n",
      "Blockchain.com | Blockchain Charts\n",
      "Blockchain.comHomePricesChartsNFTsBuyMoreHomePricesChartsNFTsDeFiAcademyNewsDevelopersAdvertiseWalletExchangeBitcoinEthereumBitcoin CashBTC TestnetBCH TestnetEnglishEspañolPortuguêsPyccкийFrançaisDeutschBlockchain.com Sign In Sign InBitcoin/USD27,366.682.83%Ethereum/USD1,862.553.40%Tether/USD1.000.00%Binance Coin/USD323.471.70%XRP/USD0.454.08%USD Coin/USD1.000.00%Cardano/USD0.394.01%Arbitrum/USD1.494.92%Solana/USD21.433.34%OKB/USD48.199.85%Staked Ether/USD1,855.663.53%Dogecoin/USD0.085.52%Aptos/USD10.158.23%Polygon/USD1.022.11%Optimism/USD2.286.24%Avalanche/USD17.126.04%Chainlink/USD7.154.46%Polkadot/USD5.913.02%WETH/USD1,895.183.40%Binance USD/USD1.000.0046%Bitcoin/USD27,366.682.83%Ethereum/USD1,862.553.40%Tether/USD1.000.00%Binance Coin/USD323.471.70%XRP/USD0.454.08%USD Coin/USD1.000.00%Cardano/USD0.394.01%Arbitrum/USD1.494.92%Solana/USD21.433.34%OKB/USD48.199.85%Staked Ether/USD1,855.663.53%Dogecoin/USD0.085.52%Aptos/USD10.158.23%Polygon/USD1.022.11%Optimism/USD2.286.24%Avalanche/USD17.126.04%Chainlink/USD7.154.46%Polkadot/USD5.913.02%WETH/USD1,895.183.40%Binance USD/USD1.000.0046%Blockchain ChartsThe most trusted source for data on the bitcoin blockchainCurrency StatisticsBlock DetailsMining InformationNetwork ActivityMarket SignalsPopular StatsMarket Price (USD)$27,370USDThe average USD market price across major bitcoin exchanges.Average Block Size (MB)1.84MBThe average block size over the past 24 hours in megabytes.Confirmed Transactions Per Day359,655TransactionsThe total number of confirmed transactions per day.Mempool Size (Bytes)4,606,760BytesThe aggregate size in bytes of transactions waiting to be confirmed.Currency StatisticsTotal Circulating BitcoinThe total number of mined bitcoin that are currently circulating on the network.Market Price (USD)The average USD market price across major bitcoin exchanges.Market Capitalization (USD)The total USD value of bitcoin in circulation.Exchange Trade Volume (USD)The total USD value of trading volume on major bitcoin exchanges.Bitcoin Cycle IndicatorsBitcoin Profitable DaysNumber of days in which holding bitcoin has been profitable, relative to current price.200 Week Moving Average HeatmapMonthly heatmap on the percent change of the 200 week moving averageBlock DetailsBlockchain Size (MB)The total size of the blockchain minus database indexes in megabytes.Average Block Size (MB)The average block size over the past 24 hours in megabytes.Average Transactions Per BlockThe average number of transactions per block over the past 24 hours.Average Payments Per BlockThe average number of payments per block over the past 24 hours.Total Number of TransactionsThe total number of transactions on the blockchain.Median Confirmation TimeThe median time for a transaction with miner fees to be included in a mined block and added to the public ledger.Average Confirmation TimeThe average time for a transaction with miner fees to be included in a mined block and added to the public ledger.Mining InformationTotal Hash Rate (TH/s)The estimated number of terahashes per second the bitcoin network is performing in the last 24 hours.Hashrate DistributionAn estimation of hashrate distribution amongst the largest mining pools.Hashrate Distribution Over TimeAn estimation of hashrate distribution over time amongst the largest mining poolsNetwork DifficultyA relative measure of how difficult it is to mine a new block for the blockchain.Miners Revenue (USD)Total value in USD of coinbase block rewards and transaction fees paid to miners.Total Transaction Fees (BTC)The total BTC value of all transaction fees paid to miners. This does not include coinbase block rewards.Total Transaction Fees (USD)The total USD value of all transaction fees paid to miners. This does not include coinbase block rewards.Fees Per Transaction (USD)Average transaction fees in USD per transaction.Cost % of Transaction VolumeA chart showing miners revenue as percentage of the transaction volume.Cost Per TransactionA chart showing miners revenue divided by the number of transactions.Network ActivityUnique Addresses UsedThe total number of unique addresses used on the blockchain.Confirmed Transactions Per DayThe total number of confirmed transactions per day.Confirmed Payments Per DayThe total number of confirmed payments per day.Transaction Rate Per SecondThe number of transactions added to the mempool per second.Output Value Per DayThe total value of all transaction outputs per day. This includes coins returned to the sender as change.Mempool Transaction CountThe total number of unconfirmed transactions in the mempool.Mempool Size GrowthThe rate at which the mempool is growing in bytes per second.Mempool Size (Bytes)The aggregate size in bytes of transactions waiting to be confirmed.Mempool Bytes Per Fee LevelThe current state of the mempool organized by bytes per fee level.Unspent Transaction OutputsThe total number of valid unspent transaction outputs. This excludes invalid UTXOs with opcode OP_RETURNTransactions Excluding Popular AddressesThe total number of transactions excluding those involving the network's 100 most popular addresses.Estimated Transaction Value (BTC)The total estimated value in BTC of transactions on the blockchain. This does not include coins returned as change.Estimated Transaction Value (USD)The total estimated value in USD of transactions on the blockchain. This does not include coins returned as change.Market SignalsMarket Value to Realised ValueMVRV is calculated by dividing Market Value by Realised Value. In Realised Value, BTC prices are taken at the time they last moved, instead of the current price like in Market ValueNetwork Value to TransactionsNVT is computed by dividing the Network Value (= Market Value) by the total transactions volume in USD over the past 24hour.Network Value to Transactions SignalNVTS is a more stable measure of NVT, with the denominator being the moving average over the last 90 days of NVT's denominatorExplore top crypto assets./ \n"
     ]
    }
   ],
   "source": [
    "import requests\n",
    "from bs4 import BeautifulSoup\n",
    "\n",
    "links = []\n",
    "for i in Searchlinks:\n",
    "    try:\n",
    "        page = requests.get(i)\n",
    "        soup = BeautifulSoup(page.content, 'html.parser')\n",
    "        title = soup.title.text \n",
    "        print(title)\n",
    "        print(soup.body.text)\n",
    "        aTag = soup.find_all(\"a\")\n",
    "        links = aTag.get(\"href\")\n",
    "        print(links)\n",
    "        print(aTag)\n",
    "        video_tags = soup.findAll('video')\n",
    "        print(video_tags)\n",
    "\n",
    "    except AttributeError:\n",
    "        continue\n",
    "    "
   ]
  },
  {
   "cell_type": "code",
   "execution_count": 8,
   "metadata": {},
   "outputs": [
    {
     "name": "stdout",
     "output_type": "stream",
     "text": [
      "Blockchain.com | Blockchain Charts\n",
      "Blockchain.comHomePricesChartsNFTsBuyMoreHomePricesChartsNFTsDeFiAcademyNewsDevelopersAdvertiseWalletExchangeBitcoinEthereumBitcoin CashBTC TestnetBCH TestnetEnglishEspañolPortuguêsPyccкийFrançaisDeutschBlockchain.com Sign In Sign InBitcoin/USD27,366.682.83%Ethereum/USD1,862.553.40%Tether/USD1.000.00%Binance Coin/USD323.471.70%XRP/USD0.454.08%USD Coin/USD1.000.00%Cardano/USD0.394.01%Arbitrum/USD1.494.92%Solana/USD21.433.34%OKB/USD48.199.85%Staked Ether/USD1,855.663.53%Dogecoin/USD0.085.52%Aptos/USD10.158.23%Polygon/USD1.022.11%Optimism/USD2.286.24%Avalanche/USD17.126.04%Chainlink/USD7.154.46%Polkadot/USD5.913.02%WETH/USD1,895.183.40%Binance USD/USD1.000.0046%Bitcoin/USD27,366.682.83%Ethereum/USD1,862.553.40%Tether/USD1.000.00%Binance Coin/USD323.471.70%XRP/USD0.454.08%USD Coin/USD1.000.00%Cardano/USD0.394.01%Arbitrum/USD1.494.92%Solana/USD21.433.34%OKB/USD48.199.85%Staked Ether/USD1,855.663.53%Dogecoin/USD0.085.52%Aptos/USD10.158.23%Polygon/USD1.022.11%Optimism/USD2.286.24%Avalanche/USD17.126.04%Chainlink/USD7.154.46%Polkadot/USD5.913.02%WETH/USD1,895.183.40%Binance USD/USD1.000.0046%Blockchain ChartsThe most trusted source for data on the bitcoin blockchainCurrency StatisticsBlock DetailsMining InformationNetwork ActivityMarket SignalsPopular StatsMarket Price (USD)$27,370USDThe average USD market price across major bitcoin exchanges.Average Block Size (MB)1.84MBThe average block size over the past 24 hours in megabytes.Confirmed Transactions Per Day359,655TransactionsThe total number of confirmed transactions per day.Mempool Size (Bytes)4,606,760BytesThe aggregate size in bytes of transactions waiting to be confirmed.Currency StatisticsTotal Circulating BitcoinThe total number of mined bitcoin that are currently circulating on the network.Market Price (USD)The average USD market price across major bitcoin exchanges.Market Capitalization (USD)The total USD value of bitcoin in circulation.Exchange Trade Volume (USD)The total USD value of trading volume on major bitcoin exchanges.Bitcoin Cycle IndicatorsBitcoin Profitable DaysNumber of days in which holding bitcoin has been profitable, relative to current price.200 Week Moving Average HeatmapMonthly heatmap on the percent change of the 200 week moving averageBlock DetailsBlockchain Size (MB)The total size of the blockchain minus database indexes in megabytes.Average Block Size (MB)The average block size over the past 24 hours in megabytes.Average Transactions Per BlockThe average number of transactions per block over the past 24 hours.Average Payments Per BlockThe average number of payments per block over the past 24 hours.Total Number of TransactionsThe total number of transactions on the blockchain.Median Confirmation TimeThe median time for a transaction with miner fees to be included in a mined block and added to the public ledger.Average Confirmation TimeThe average time for a transaction with miner fees to be included in a mined block and added to the public ledger.Mining InformationTotal Hash Rate (TH/s)The estimated number of terahashes per second the bitcoin network is performing in the last 24 hours.Hashrate DistributionAn estimation of hashrate distribution amongst the largest mining pools.Hashrate Distribution Over TimeAn estimation of hashrate distribution over time amongst the largest mining poolsNetwork DifficultyA relative measure of how difficult it is to mine a new block for the blockchain.Miners Revenue (USD)Total value in USD of coinbase block rewards and transaction fees paid to miners.Total Transaction Fees (BTC)The total BTC value of all transaction fees paid to miners. This does not include coinbase block rewards.Total Transaction Fees (USD)The total USD value of all transaction fees paid to miners. This does not include coinbase block rewards.Fees Per Transaction (USD)Average transaction fees in USD per transaction.Cost % of Transaction VolumeA chart showing miners revenue as percentage of the transaction volume.Cost Per TransactionA chart showing miners revenue divided by the number of transactions.Network ActivityUnique Addresses UsedThe total number of unique addresses used on the blockchain.Confirmed Transactions Per DayThe total number of confirmed transactions per day.Confirmed Payments Per DayThe total number of confirmed payments per day.Transaction Rate Per SecondThe number of transactions added to the mempool per second.Output Value Per DayThe total value of all transaction outputs per day. This includes coins returned to the sender as change.Mempool Transaction CountThe total number of unconfirmed transactions in the mempool.Mempool Size GrowthThe rate at which the mempool is growing in bytes per second.Mempool Size (Bytes)The aggregate size in bytes of transactions waiting to be confirmed.Mempool Bytes Per Fee LevelThe current state of the mempool organized by bytes per fee level.Unspent Transaction OutputsThe total number of valid unspent transaction outputs. This excludes invalid UTXOs with opcode OP_RETURNTransactions Excluding Popular AddressesThe total number of transactions excluding those involving the network's 100 most popular addresses.Estimated Transaction Value (BTC)The total estimated value in BTC of transactions on the blockchain. This does not include coins returned as change.Estimated Transaction Value (USD)The total estimated value in USD of transactions on the blockchain. This does not include coins returned as change.Market SignalsMarket Value to Realised ValueMVRV is calculated by dividing Market Value by Realised Value. In Realised Value, BTC prices are taken at the time they last moved, instead of the current price like in Market ValueNetwork Value to TransactionsNVT is computed by dividing the Network Value (= Market Value) by the total transactions volume in USD over the past 24hour.Network Value to Transactions SignalNVTS is a more stable measure of NVT, with the denominator being the moving average over the last 90 days of NVT's denominatorExplore top crypto assets./ \n"
     ]
    }
   ],
   "source": [
    "print(title)\n",
    "print(soup.body.text)"
   ]
  }
 ],
 "metadata": {
  "kernelspec": {
   "display_name": "Python 3",
   "language": "python",
   "name": "python3"
  },
  "language_info": {
   "codemirror_mode": {
    "name": "ipython",
    "version": 3
   },
   "file_extension": ".py",
   "mimetype": "text/x-python",
   "name": "python",
   "nbconvert_exporter": "python",
   "pygments_lexer": "ipython3",
   "version": "3.10.6"
  },
  "orig_nbformat": 4
 },
 "nbformat": 4,
 "nbformat_minor": 2
}
